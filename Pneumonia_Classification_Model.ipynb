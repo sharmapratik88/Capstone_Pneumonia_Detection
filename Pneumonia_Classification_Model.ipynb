{
 "cells": [
  {
   "cell_type": "markdown",
   "metadata": {
    "colab_type": "text",
    "id": "ukb7nZjIMQcy"
   },
   "source": [
    "### Author: [Pratik Sharma](https://github.com/sharmapratik88/)\n",
    "## Import Packages"
   ]
  },
  {
   "cell_type": "code",
   "execution_count": 1,
   "metadata": {
    "colab": {
     "base_uri": "https://localhost:8080/",
     "height": 122
    },
    "colab_type": "code",
    "id": "al8SUKiPIOkW",
    "outputId": "a98e6ffb-cf96-429a-ee46-b32633290cc8",
    "scrolled": false
   },
   "outputs": [
    {
     "data": {
      "text/html": [
       "<style>.container { width:100% !important; }</style>"
      ],
      "text/plain": [
       "<IPython.core.display.HTML object>"
      ]
     },
     "metadata": {},
     "output_type": "display_data"
    }
   ],
   "source": [
    "from IPython.core.display import display, HTML\n",
    "display(HTML('<style>.container { width:100% !important; }</style>'))"
   ]
  },
  {
   "cell_type": "code",
   "execution_count": 2,
   "metadata": {
    "colab": {
     "base_uri": "https://localhost:8080/",
     "height": 51
    },
    "colab_type": "code",
    "id": "5rGulN57IXb0",
    "outputId": "6302d6db-1ef9-4604-f04b-ac942dcb0a08"
   },
   "outputs": [
    {
     "name": "stderr",
     "output_type": "stream",
     "text": [
      "Using TensorFlow backend.\n"
     ]
    },
    {
     "name": "stdout",
     "output_type": "stream",
     "text": [
      "Device mapping:\n",
      "/job:localhost/replica:0/task:0/device:XLA_CPU:0 -> device: XLA_CPU device\n",
      "/job:localhost/replica:0/task:0/device:XLA_GPU:0 -> device: XLA_GPU device\n",
      "/job:localhost/replica:0/task:0/device:GPU:0 -> device: 0, name: Tesla T4, pci bus id: 0000:00:04.0, compute capability: 7.5\n",
      "\n",
      "Num GPUs Available:  1\n",
      "Mixed precision enabled\n"
     ]
    }
   ],
   "source": [
    "# IMPORT PACKAGES\n",
    "import warnings; warnings.filterwarnings('ignore')\n",
    "import pandas as pd, numpy as np\n",
    "import matplotlib.pyplot as plt\n",
    "import os, random, csv\n",
    "import seaborn as sns\n",
    "from glob import glob\n",
    "from tqdm import tqdm\n",
    "%matplotlib inline\n",
    "\n",
    "# MODEL METRICS\n",
    "from mlxtend.plotting import plot_confusion_matrix\n",
    "from sklearn.model_selection import train_test_split\n",
    "\n",
    "# SET VARIABLES\n",
    "PATH = '/home/pratik_sharma_ds/Capstone_Pneumonia_Detection/'\n",
    "os.chdir(PATH)\n",
    "\n",
    "DATA_DIR = os.path.join(PATH + 'data/')\n",
    "TRAIN_IMAGES = os.path.join(DATA_DIR + 'stage_2_train_images/')\n",
    "TEST_IMAGES = os.path.join(DATA_DIR + 'stage_2_test_images/')\n",
    "OUTPUT_DIR = os.path.join(PATH + 'output/')\n",
    "MODEL_WEIGHTS = os.path.join(PATH + 'model_weights/')\n",
    "TRAIN_IMAGES_DIR = os.path.join(DATA_DIR + 'stage_2_train_images_png/')\n",
    "if not os.path.exists(TRAIN_IMAGES_DIR): os.makedirs(TRAIN_IMAGES_DIR)\n",
    "if not os.path.exists(MODEL_WEIGHTS): os.makedirs(MODEL_WEIGHTS)\n",
    "\n",
    "# CUSTOM MODULE\n",
    "from module.classify import *\n",
    "\n",
    "# SET RANDOM SEED\n",
    "random_state = 2020\n",
    "random.seed(random_state)\n",
    "np.random.seed(random_state)\n",
    "\n",
    "# USE GPU FOR MODEL TRAINING\n",
    "config = tf.compat.v1.ConfigProto(log_device_placement = True, allow_soft_placement = True)\n",
    "config.gpu_options.allow_growth = True\n",
    "session = tf.compat.v1.Session(config = config)\n",
    "list_gpu = tf.config.experimental.list_physical_devices(device_type = 'GPU')\n",
    "if len(list_gpu)==1: strategy = tf.distribute.OneDeviceStrategy(device='/gpu:0')\n",
    "else: strategy = tf.distribute.MirroredStrategy()\n",
    "print('Num GPUs Available: ', len(list_gpu))\n",
    "tf.config.optimizer.set_experimental_options({'auto_mixed_precision': True})\n",
    "print('Mixed precision enabled')"
   ]
  },
  {
   "cell_type": "markdown",
   "metadata": {
    "colab_type": "text",
    "id": "X5ZtjK4MMaYq"
   },
   "source": [
    "## Read Data & Prep for Model\n",
    "* Read a pickle file that was saved as part of [EDA & Data Prep](https://nbviewer.jupyter.org/github/sharmapratik88/Capstone_Pneumonia_Detection/blob/master/Pneumonia_Detection_EDA_%26_Data_Prep.ipynb)"
   ]
  },
  {
   "cell_type": "code",
   "execution_count": 3,
   "metadata": {
    "colab": {
     "base_uri": "https://localhost:8080/",
     "height": 306
    },
    "colab_type": "code",
    "id": "-baCLrK_u7Zg",
    "outputId": "26732056-9da9-4645-d8c4-9ba8ddf2fc1e"
   },
   "outputs": [
    {
     "data": {
      "text/plain": [
       "(30227, 12)"
      ]
     },
     "metadata": {},
     "output_type": "display_data"
    },
    {
     "data": {
      "text/html": [
       "<div>\n",
       "<style scoped>\n",
       "    .dataframe tbody tr th:only-of-type {\n",
       "        vertical-align: middle;\n",
       "    }\n",
       "\n",
       "    .dataframe tbody tr th {\n",
       "        vertical-align: top;\n",
       "    }\n",
       "\n",
       "    .dataframe thead th {\n",
       "        text-align: right;\n",
       "    }\n",
       "</style>\n",
       "<table border=\"1\" class=\"dataframe\">\n",
       "  <thead>\n",
       "    <tr style=\"text-align: right;\">\n",
       "      <th></th>\n",
       "      <th>patientId</th>\n",
       "      <th>x</th>\n",
       "      <th>y</th>\n",
       "      <th>width</th>\n",
       "      <th>height</th>\n",
       "      <th>Target</th>\n",
       "      <th>number_of_boxes</th>\n",
       "      <th>class</th>\n",
       "      <th>path</th>\n",
       "      <th>PatientSex</th>\n",
       "      <th>PatientAge</th>\n",
       "      <th>ViewPosition</th>\n",
       "    </tr>\n",
       "  </thead>\n",
       "  <tbody>\n",
       "    <tr>\n",
       "      <th>0</th>\n",
       "      <td>0004cfab-14fd-4e49-80ba-63a80b6bddd6</td>\n",
       "      <td>NaN</td>\n",
       "      <td>NaN</td>\n",
       "      <td>NaN</td>\n",
       "      <td>NaN</td>\n",
       "      <td>0</td>\n",
       "      <td>1</td>\n",
       "      <td>No Lung Opacity / Not Normal</td>\n",
       "      <td>/home/pratik_sharma_ds/Capstone_Pneumonia_Dete...</td>\n",
       "      <td>F</td>\n",
       "      <td>51.0</td>\n",
       "      <td>PA</td>\n",
       "    </tr>\n",
       "    <tr>\n",
       "      <th>1</th>\n",
       "      <td>00313ee0-9eaa-42f4-b0ab-c148ed3241cd</td>\n",
       "      <td>NaN</td>\n",
       "      <td>NaN</td>\n",
       "      <td>NaN</td>\n",
       "      <td>NaN</td>\n",
       "      <td>0</td>\n",
       "      <td>1</td>\n",
       "      <td>No Lung Opacity / Not Normal</td>\n",
       "      <td>/home/pratik_sharma_ds/Capstone_Pneumonia_Dete...</td>\n",
       "      <td>F</td>\n",
       "      <td>48.0</td>\n",
       "      <td>PA</td>\n",
       "    </tr>\n",
       "    <tr>\n",
       "      <th>2</th>\n",
       "      <td>00322d4d-1c29-4943-afc9-b6754be640eb</td>\n",
       "      <td>NaN</td>\n",
       "      <td>NaN</td>\n",
       "      <td>NaN</td>\n",
       "      <td>NaN</td>\n",
       "      <td>0</td>\n",
       "      <td>1</td>\n",
       "      <td>No Lung Opacity / Not Normal</td>\n",
       "      <td>/home/pratik_sharma_ds/Capstone_Pneumonia_Dete...</td>\n",
       "      <td>M</td>\n",
       "      <td>19.0</td>\n",
       "      <td>AP</td>\n",
       "    </tr>\n",
       "    <tr>\n",
       "      <th>3</th>\n",
       "      <td>003d8fa0-6bf1-40ed-b54c-ac657f8495c5</td>\n",
       "      <td>NaN</td>\n",
       "      <td>NaN</td>\n",
       "      <td>NaN</td>\n",
       "      <td>NaN</td>\n",
       "      <td>0</td>\n",
       "      <td>1</td>\n",
       "      <td>Normal</td>\n",
       "      <td>/home/pratik_sharma_ds/Capstone_Pneumonia_Dete...</td>\n",
       "      <td>M</td>\n",
       "      <td>28.0</td>\n",
       "      <td>PA</td>\n",
       "    </tr>\n",
       "    <tr>\n",
       "      <th>4</th>\n",
       "      <td>00436515-870c-4b36-a041-de91049b9ab4</td>\n",
       "      <td>264.0</td>\n",
       "      <td>152.0</td>\n",
       "      <td>213.0</td>\n",
       "      <td>379.0</td>\n",
       "      <td>1</td>\n",
       "      <td>2</td>\n",
       "      <td>Lung Opacity</td>\n",
       "      <td>/home/pratik_sharma_ds/Capstone_Pneumonia_Dete...</td>\n",
       "      <td>F</td>\n",
       "      <td>32.0</td>\n",
       "      <td>AP</td>\n",
       "    </tr>\n",
       "  </tbody>\n",
       "</table>\n",
       "</div>"
      ],
      "text/plain": [
       "                              patientId      x      y  width  height  Target  \\\n",
       "0  0004cfab-14fd-4e49-80ba-63a80b6bddd6    NaN    NaN    NaN     NaN       0   \n",
       "1  00313ee0-9eaa-42f4-b0ab-c148ed3241cd    NaN    NaN    NaN     NaN       0   \n",
       "2  00322d4d-1c29-4943-afc9-b6754be640eb    NaN    NaN    NaN     NaN       0   \n",
       "3  003d8fa0-6bf1-40ed-b54c-ac657f8495c5    NaN    NaN    NaN     NaN       0   \n",
       "4  00436515-870c-4b36-a041-de91049b9ab4  264.0  152.0  213.0   379.0       1   \n",
       "\n",
       "   number_of_boxes                         class  \\\n",
       "0                1  No Lung Opacity / Not Normal   \n",
       "1                1  No Lung Opacity / Not Normal   \n",
       "2                1  No Lung Opacity / Not Normal   \n",
       "3                1                        Normal   \n",
       "4                2                  Lung Opacity   \n",
       "\n",
       "                                                path PatientSex  PatientAge  \\\n",
       "0  /home/pratik_sharma_ds/Capstone_Pneumonia_Dete...          F        51.0   \n",
       "1  /home/pratik_sharma_ds/Capstone_Pneumonia_Dete...          F        48.0   \n",
       "2  /home/pratik_sharma_ds/Capstone_Pneumonia_Dete...          M        19.0   \n",
       "3  /home/pratik_sharma_ds/Capstone_Pneumonia_Dete...          M        28.0   \n",
       "4  /home/pratik_sharma_ds/Capstone_Pneumonia_Dete...          F        32.0   \n",
       "\n",
       "  ViewPosition  \n",
       "0           PA  \n",
       "1           PA  \n",
       "2           AP  \n",
       "3           PA  \n",
       "4           AP  "
      ]
     },
     "metadata": {},
     "output_type": "display_data"
    }
   ],
   "source": [
    "# Read `train_class_features.pkl` file, saved as EDA & Data Prep Module\n",
    "train_class = pd.read_pickle(OUTPUT_DIR + 'train_class_features.pkl')\n",
    "display(train_class.shape, train_class.head())"
   ]
  },
  {
   "cell_type": "code",
   "execution_count": 4,
   "metadata": {
    "colab": {
     "base_uri": "https://localhost:8080/",
     "height": 306
    },
    "colab_type": "code",
    "id": "jy7cjyGivFbU",
    "outputId": "03777498-f830-4585-e57d-d697089f0787"
   },
   "outputs": [
    {
     "name": "stdout",
     "output_type": "stream",
     "text": [
      "Prepare a dataframe with paths, classes and targets\n",
      "--------------------------------------------------------------------------------\n"
     ]
    },
    {
     "data": {
      "text/plain": [
       "(26684, 4)"
      ]
     },
     "metadata": {},
     "output_type": "display_data"
    },
    {
     "data": {
      "text/plain": [
       "patientId    26684\n",
       "path         26684\n",
       "class            3\n",
       "Target           2\n",
       "dtype: int64"
      ]
     },
     "metadata": {},
     "output_type": "display_data"
    },
    {
     "name": "stdout",
     "output_type": "stream",
     "text": [
      "\n",
      "Distribution of target and classes\n"
     ]
    },
    {
     "data": {
      "text/plain": [
       "0    20672\n",
       "1     6012\n",
       "Name: Target, dtype: int64"
      ]
     },
     "metadata": {},
     "output_type": "display_data"
    },
    {
     "name": "stdout",
     "output_type": "stream",
     "text": [
      "\n"
     ]
    },
    {
     "data": {
      "text/plain": [
       "No Lung Opacity / Not Normal    11821\n",
       "Normal                           8851\n",
       "Lung Opacity                     6012\n",
       "Name: class, dtype: int64"
      ]
     },
     "metadata": {},
     "output_type": "display_data"
    }
   ],
   "source": [
    "# A dataframe with paths, classes and targets\n",
    "print('Prepare a dataframe with paths, classes and targets'); print('--'*40)\n",
    "path_class_target = train_class[['patientId', 'path', 'class', 'Target']].copy(deep = True)\n",
    "path_class_target['path'] = (path_class_target['path']\n",
    "                             .str.replace('stage_2_train_images', 'stage_2_train_images_png')\n",
    "                             .str.replace('.dcm', '.png'))\n",
    "path_class_target.drop_duplicates(inplace = True)\n",
    "display(path_class_target.shape, path_class_target.nunique())\n",
    "print('\\nDistribution of target and classes')\n",
    "display(path_class_target['Target'].value_counts())\n",
    "print()\n",
    "display(path_class_target['class'].value_counts())"
   ]
  },
  {
   "cell_type": "code",
   "execution_count": 5,
   "metadata": {},
   "outputs": [
    {
     "name": "stdout",
     "output_type": "stream",
     "text": [
      "Convert dicom to png images\n",
      "--------------------------------------------------------------------------------\n"
     ]
    }
   ],
   "source": [
    "# Run only if you haven't converted to png images yet\n",
    "print('Convert dicom to png images'); print('--'*40)\n",
    "\n",
    "# image_lists = [f for f in os.listdir(TRAIN_IMAGES)]\n",
    "# for f in tqdm_notebook(image_lists): \n",
    "#     ds = dcm.read_file(TRAIN_IMAGES + f)\n",
    "#     img = ds.pixel_array\n",
    "#     cv2.imwrite(TRAIN_IMAGES_DIR + f.replace('.dcm','.png'), img)"
   ]
  },
  {
   "cell_type": "code",
   "execution_count": 6,
   "metadata": {},
   "outputs": [
    {
     "name": "stdout",
     "output_type": "stream",
     "text": [
      "Split the data in train, valid and test sets\n",
      "--------------------------------------------------------------------------------\n"
     ]
    }
   ],
   "source": [
    "# Split the data in train, valid and test sets\n",
    "print('Split the data in train, valid and test sets'); print('--'*40)\n",
    "\n",
    "image_list = list(path_class_target['path'])\n",
    "random.shuffle(image_list)\n",
    "val_size = round(len(image_list)/10)\n",
    "test_size = round(len(image_list)/10)\n",
    "train_size = len(image_list)-test_size-val_size\n",
    "\n",
    "X_train = image_list[:train_size]\n",
    "X_valid = image_list[train_size:(train_size + val_size)]\n",
    "X_test = image_list[(train_size + val_size):]"
   ]
  },
  {
   "cell_type": "code",
   "execution_count": 7,
   "metadata": {
    "colab": {
     "base_uri": "https://localhost:8080/",
     "height": 119
    },
    "colab_type": "code",
    "id": "q_6QOfAkzPU7",
    "outputId": "1a707eed-44e8-4cfa-d738-95fb2c7c8701"
   },
   "outputs": [
    {
     "name": "stdout",
     "output_type": "stream",
     "text": [
      "Create Training, Validation and Test Dataframe with Path and Target\n",
      "--------------------------------------------------------------------------------\n",
      "Shape of the dataframes:\n",
      "TRAIN:(21348, 3)\n",
      "VALID:(2668, 3)\n",
      "TEST:(2668, 3)\n"
     ]
    }
   ],
   "source": [
    "print('Create Training, Validation and Test Dataframe with Path and Target'); print('--'*40)\n",
    "\n",
    "df_train = (path_class_target.merge(pd.Series(X_train, name = 'path'), \n",
    "                                    on = 'path', \n",
    "                                    how = 'right')\n",
    "          .drop(['class'], axis = 1))\n",
    "\n",
    "df_valid = (path_class_target.merge(pd.Series(X_valid, name = 'path'), \n",
    "                                    on = 'path', \n",
    "                                    how = 'right')\n",
    "          .drop(['class'], axis = 1))\n",
    "\n",
    "df_test = (path_class_target.merge(pd.Series(X_test, name = 'path'), \n",
    "                                    on = 'path', \n",
    "                                    how = 'right')\n",
    "          .drop(['class'], axis = 1))\n",
    "\n",
    "print('Shape of the dataframes:\\nTRAIN:{}\\nVALID:{}\\nTEST:{}'.format(df_train.shape, df_valid.shape, df_test.shape))"
   ]
  },
  {
   "cell_type": "code",
   "execution_count": 8,
   "metadata": {
    "colab": {
     "base_uri": "https://localhost:8080/",
     "height": 289
    },
    "colab_type": "code",
    "id": "FcqHp-blx4IJ",
    "outputId": "20e863c4-403c-49cf-a22d-4114004da0c3"
   },
   "outputs": [
    {
     "name": "stdout",
     "output_type": "stream",
     "text": [
      "Training, Validation and Test set is ~equally distributed on target\n",
      "--------------------------------------------------------------------------------\n",
      "Distribution of target in the training set:\n"
     ]
    },
    {
     "data": {
      "text/plain": [
       "0    0.78\n",
       "1    0.22\n",
       "Name: Target, dtype: float64"
      ]
     },
     "metadata": {},
     "output_type": "display_data"
    },
    {
     "name": "stdout",
     "output_type": "stream",
     "text": [
      "\n",
      "Distribution of target in the validation set:\n"
     ]
    },
    {
     "data": {
      "text/plain": [
       "0    0.78\n",
       "1    0.22\n",
       "Name: Target, dtype: float64"
      ]
     },
     "metadata": {},
     "output_type": "display_data"
    },
    {
     "name": "stdout",
     "output_type": "stream",
     "text": [
      "\n",
      "Distribution of target in the test set:\n"
     ]
    },
    {
     "data": {
      "text/plain": [
       "0    0.77\n",
       "1    0.23\n",
       "Name: Target, dtype: float64"
      ]
     },
     "metadata": {},
     "output_type": "display_data"
    }
   ],
   "source": [
    "print('Training, Validation and Test set is ~equally distributed on target'); print('--'*40)\n",
    "print('Distribution of target in the training set:'); \n",
    "display(pd.Series(df_train['Target']).value_counts(normalize = True).round(2))\n",
    "print('\\nDistribution of target in the validation set:'); \n",
    "display(pd.Series(df_valid['Target']).value_counts(normalize = True).round(2))\n",
    "print('\\nDistribution of target in the test set:'); \n",
    "display(pd.Series(df_test['Target']).value_counts(normalize = True).round(2))"
   ]
  },
  {
   "cell_type": "code",
   "execution_count": 9,
   "metadata": {
    "colab": {
     "base_uri": "https://localhost:8080/",
     "height": 51
    },
    "colab_type": "code",
    "id": "Wu3Z72Djc8pr",
    "outputId": "b6ed505f-a43c-432e-f8bb-b30f3854cfa7"
   },
   "outputs": [
    {
     "name": "stdout",
     "output_type": "stream",
     "text": [
      "Save the train, valid and test dataframes for future use\n",
      "--------------------------------------------------------------------------------\n"
     ]
    }
   ],
   "source": [
    "print('Save the train, valid and test dataframes for future use');print('--'*40)\n",
    "df_train.to_pickle(OUTPUT_DIR + 'train_data.pkl')\n",
    "df_valid.to_pickle(OUTPUT_DIR + 'valid_data.pkl')\n",
    "df_test.to_pickle(OUTPUT_DIR + 'test_data.pkl')"
   ]
  },
  {
   "cell_type": "markdown",
   "metadata": {
    "colab_type": "text",
    "id": "9lVndB3tNpdj"
   },
   "source": [
    "## Model - DenseNet121"
   ]
  },
  {
   "cell_type": "code",
   "execution_count": 10,
   "metadata": {
    "colab": {},
    "colab_type": "code",
    "id": "MVGCIGX6Jqqp"
   },
   "outputs": [],
   "source": [
    "# Model Parameters\n",
    "BATCH_SIZE = 32\n",
    "IMAGE_SIZE = 224\n",
    "EPOCH = 10\n",
    "LEARNING_RATE = 1e-4\n",
    "MONITOR = 'val_loss'\n",
    "MODE = 'min'\n",
    "VERBOSE = 1\n",
    "FACTOR = 0.1\n",
    "PATIENCE = 5\n",
    "COOLDOWN = 5\n",
    "BEST_MODEL = 'best_densenet.h5'\n",
    "FINAL_MODEL = 'best_densenet_final.h5'\n",
    "LOG_FILE = 'logs.csv'\n",
    "LOSS = 'binary_crossentropy'\n",
    "METRICS = ['accuracy', average_precision, f1_score]"
   ]
  },
  {
   "cell_type": "code",
   "execution_count": 11,
   "metadata": {},
   "outputs": [],
   "source": [
    "df_train['Target'] = df_train['Target'].astype(str); \n",
    "df_valid['Target'] = df_valid['Target'].astype(str); \n",
    "df_test['Target'] = df_test['Target'].astype(str)"
   ]
  },
  {
   "cell_type": "code",
   "execution_count": 12,
   "metadata": {},
   "outputs": [
    {
     "name": "stdout",
     "output_type": "stream",
     "text": [
      "Create generators for training, validation and test dataframes\n",
      "--------------------------------------------------------------------------------\n",
      "Train Generator Created ----------------------------------------\n",
      "Found 21348 validated image filenames belonging to 2 classes.\n",
      "Validation Generator Created ----------------------------------------\n",
      "Found 2668 validated image filenames belonging to 2 classes.\n",
      "Test Generator Created ----------------------------------------\n",
      "Found 2668 validated image filenames belonging to 2 classes.\n"
     ]
    }
   ],
   "source": [
    "print('Create generators for training, validation and test dataframes'); print('--'*40)\n",
    "generators = DataGenerators(df_train, df_valid, df_test, \n",
    "                            batch_size = BATCH_SIZE, \n",
    "                            path = TRAIN_IMAGES_DIR, \n",
    "                            img_size = (IMAGE_SIZE, IMAGE_SIZE), \n",
    "                            class_mode = 'binary',\n",
    "                            random_state = random_state)"
   ]
  },
  {
   "cell_type": "code",
   "execution_count": 13,
   "metadata": {
    "scrolled": false
   },
   "outputs": [],
   "source": [
    "def build_model():\n",
    "    print('Create a `DenseNet121` model'); print('--'*40)\n",
    "    input_shape = (IMAGE_SIZE, IMAGE_SIZE, 3)\n",
    "    inputs = Input(shape = input_shape)\n",
    "    initializer = tf.keras.initializers.GlorotNormal()\n",
    "    \n",
    "    base_model = DenseNet121(include_top = False, input_tensor = inputs, weights ='imagenet')\n",
    "    \n",
    "    densenet = Model(inputs = inputs, outputs = base_model.layers[-1].output, name = 'DenseNet121')\n",
    "    \n",
    "    model = Sequential(name = 'DenseNet121')\n",
    "    model.add(densenet)\n",
    "    model.add(GlobalAveragePooling2D())\n",
    "    model.add(Dropout(0.4))\n",
    "    model.add(Dense(1, activation = 'sigmoid', kernel_initializer = initializer))\n",
    "    model.summary()\n",
    "    return model\n",
    "\n",
    "def callbacks():\n",
    "    lrscheduler = ReduceLROnPlateau(monitor = MONITOR, factor = FACTOR, \n",
    "                                    patience = PATIENCE, verbose = VERBOSE, \n",
    "                                    mode = MODE, cooldown = COOLDOWN)\n",
    "    \n",
    "    model.compile(optimizer = Adam(lr = LEARNING_RATE), loss = LOSS, metrics = METRICS)\n",
    "    \n",
    "    cp = ModelCheckpoint(filepath = MODEL_WEIGHTS + BEST_MODEL, monitor = MONITOR, \n",
    "                         verbose = VERBOSE, save_best_only = True, mode = MODE)\n",
    "    \n",
    "    if os.path.exists(MODEL_WEIGHTS + LOG_FILE): os.remove(MODEL_WEIGHTS + LOG_FILE)\n",
    "    csv_logger = CSVLogger(MODEL_WEIGHTS + LOG_FILE, append = True)\n",
    "    \n",
    "    callbacks = [cp, csv_logger, lrscheduler]\n",
    "    return callbacks"
   ]
  },
  {
   "cell_type": "code",
   "execution_count": 14,
   "metadata": {
    "colab": {
     "base_uri": "https://localhost:8080/",
     "height": 394
    },
    "colab_type": "code",
    "id": "Ed9btNzeauai",
    "outputId": "642e9ca4-3607-4779-ccec-df0dc6a5ec4f",
    "scrolled": false
   },
   "outputs": [
    {
     "name": "stdout",
     "output_type": "stream",
     "text": [
      "Lets fit the model.....\n",
      "Create a `DenseNet121` model\n",
      "--------------------------------------------------------------------------------\n",
      "Model: \"DenseNet121\"\n",
      "_________________________________________________________________\n",
      "Layer (type)                 Output Shape              Param #   \n",
      "=================================================================\n",
      "DenseNet121 (Model)          (None, 7, 7, 1024)        7037504   \n",
      "_________________________________________________________________\n",
      "global_average_pooling2d (Gl (None, 1024)              0         \n",
      "_________________________________________________________________\n",
      "dropout (Dropout)            (None, 1024)              0         \n",
      "_________________________________________________________________\n",
      "dense (Dense)                (None, 1)                 1025      \n",
      "=================================================================\n",
      "Total params: 7,038,529\n",
      "Trainable params: 6,954,881\n",
      "Non-trainable params: 83,648\n",
      "_________________________________________________________________\n",
      "Train for 668 steps, validate for 84 steps\n",
      "Epoch 1/10\n",
      "667/668 [============================>.] - ETA: 0s - loss: 0.4231 - accuracy: 0.8103 - average_precision: 0.6078 - f1_score: 0.5038\n",
      "Epoch 00001: val_loss improved from inf to 0.50352, saving model to /home/pratik_sharma_ds/Capstone_Pneumonia_Detection/model_weights/best_densenet.h5\n",
      "668/668 [==============================] - 445s 666ms/step - loss: 0.4230 - accuracy: 0.8104 - average_precision: 0.6078 - f1_score: 0.5040 - val_loss: 0.5035 - val_accuracy: 0.7774 - val_average_precision: 0.0952 - val_f1_score: 0.0324\n",
      "Epoch 2/10\n",
      "667/668 [============================>.] - ETA: 0s - loss: 0.3729 - accuracy: 0.8353 - average_precision: 0.6895 - f1_score: 0.5650\n",
      "Epoch 00002: val_loss improved from 0.50352 to 0.45368, saving model to /home/pratik_sharma_ds/Capstone_Pneumonia_Detection/model_weights/best_densenet.h5\n",
      "668/668 [==============================] - 415s 621ms/step - loss: 0.3727 - accuracy: 0.8354 - average_precision: 0.6894 - f1_score: 0.5651 - val_loss: 0.4537 - val_accuracy: 0.8141 - val_average_precision: 0.5664 - val_f1_score: 0.6074\n",
      "Epoch 3/10\n",
      "667/668 [============================>.] - ETA: 0s - loss: 0.3608 - accuracy: 0.8411 - average_precision: 0.7034 - f1_score: 0.5841\n",
      "Epoch 00003: val_loss improved from 0.45368 to 0.34339, saving model to /home/pratik_sharma_ds/Capstone_Pneumonia_Detection/model_weights/best_densenet.h5\n",
      "668/668 [==============================] - 412s 617ms/step - loss: 0.3605 - accuracy: 0.8413 - average_precision: 0.7039 - f1_score: 0.5846 - val_loss: 0.3434 - val_accuracy: 0.8478 - val_average_precision: 0.7373 - val_f1_score: 0.5698\n",
      "Epoch 4/10\n",
      "667/668 [============================>.] - ETA: 0s - loss: 0.3524 - accuracy: 0.8428 - average_precision: 0.7071 - f1_score: 0.5884\n",
      "Epoch 00004: val_loss improved from 0.34339 to 0.33793, saving model to /home/pratik_sharma_ds/Capstone_Pneumonia_Detection/model_weights/best_densenet.h5\n",
      "668/668 [==============================] - 412s 617ms/step - loss: 0.3525 - accuracy: 0.8427 - average_precision: 0.7070 - f1_score: 0.5881 - val_loss: 0.3379 - val_accuracy: 0.8519 - val_average_precision: 0.7128 - val_f1_score: 0.6193\n",
      "Epoch 5/10\n",
      "667/668 [============================>.] - ETA: 0s - loss: 0.3455 - accuracy: 0.8453 - average_precision: 0.7222 - f1_score: 0.5905\n",
      "Epoch 00005: val_loss did not improve from 0.33793\n",
      "668/668 [==============================] - 411s 615ms/step - loss: 0.3454 - accuracy: 0.8454 - average_precision: 0.7226 - f1_score: 0.5905 - val_loss: 0.3431 - val_accuracy: 0.8478 - val_average_precision: 0.7625 - val_f1_score: 0.5670\n",
      "Epoch 6/10\n",
      "667/668 [============================>.] - ETA: 0s - loss: 0.3393 - accuracy: 0.8500 - average_precision: 0.7293 - f1_score: 0.6109\n",
      "Epoch 00006: val_loss did not improve from 0.33793\n",
      "668/668 [==============================] - 409s 612ms/step - loss: 0.3392 - accuracy: 0.8501 - average_precision: 0.7294 - f1_score: 0.6111 - val_loss: 0.3716 - val_accuracy: 0.8482 - val_average_precision: 0.7606 - val_f1_score: 0.5665\n",
      "Epoch 7/10\n",
      "667/668 [============================>.] - ETA: 0s - loss: 0.3343 - accuracy: 0.8499 - average_precision: 0.7205 - f1_score: 0.6115\n",
      "Epoch 00007: val_loss did not improve from 0.33793\n",
      "668/668 [==============================] - 427s 639ms/step - loss: 0.3345 - accuracy: 0.8498 - average_precision: 0.7204 - f1_score: 0.6114 - val_loss: 0.3389 - val_accuracy: 0.8512 - val_average_precision: 0.6805 - val_f1_score: 0.6330\n",
      "Epoch 8/10\n",
      "667/668 [============================>.] - ETA: 0s - loss: 0.3294 - accuracy: 0.8515 - average_precision: 0.7266 - f1_score: 0.6143\n",
      "Epoch 00008: val_loss improved from 0.33793 to 0.33602, saving model to /home/pratik_sharma_ds/Capstone_Pneumonia_Detection/model_weights/best_densenet.h5\n",
      "668/668 [==============================] - 411s 616ms/step - loss: 0.3293 - accuracy: 0.8516 - average_precision: 0.7267 - f1_score: 0.6144 - val_loss: 0.3360 - val_accuracy: 0.8448 - val_average_precision: 0.7009 - val_f1_score: 0.5996\n",
      "Epoch 9/10\n",
      "667/668 [============================>.] - ETA: 0s - loss: 0.3238 - accuracy: 0.8559 - average_precision: 0.7406 - f1_score: 0.6273\n",
      "Epoch 00009: val_loss did not improve from 0.33602\n",
      "668/668 [==============================] - 411s 615ms/step - loss: 0.3238 - accuracy: 0.8559 - average_precision: 0.7400 - f1_score: 0.6270 - val_loss: 0.3621 - val_accuracy: 0.8497 - val_average_precision: 0.6729 - val_f1_score: 0.6255\n",
      "Epoch 10/10\n",
      "667/668 [============================>.] - ETA: 0s - loss: 0.3169 - accuracy: 0.8584 - average_precision: 0.7415 - f1_score: 0.6358\n",
      "Epoch 00010: val_loss did not improve from 0.33602\n",
      "668/668 [==============================] - 410s 614ms/step - loss: 0.3170 - accuracy: 0.8584 - average_precision: 0.7419 - f1_score: 0.6357 - val_loss: 0.4284 - val_accuracy: 0.8430 - val_average_precision: 0.7776 - val_f1_score: 0.5379\n",
      "Save the final weights\n",
      "--------------------------------------------------------------------------------\n"
     ]
    }
   ],
   "source": [
    "print('Lets fit the model.....')\n",
    "K.clear_session()\n",
    "with strategy.scope():\n",
    "    model = build_model()\n",
    "    callbacks = callbacks()\n",
    "    train_generator = generators.train_generator\n",
    "    validation_generator = generators.valid_generator\n",
    "    test_generator = generators.test_generator    \n",
    "    history = model.fit_generator(generator = train_generator, \n",
    "                                  steps_per_epoch = generators.step_size_train,\n",
    "                                  epochs = EPOCH, verbose = VERBOSE, \n",
    "                                  callbacks = callbacks,\n",
    "                                  validation_data = validation_generator, \n",
    "                                  validation_steps = generators.step_size_valid)\n",
    "    print('Save the final weights'); print('--'*40)\n",
    "    model.save(MODEL_WEIGHTS + FINAL_MODEL)"
   ]
  },
  {
   "cell_type": "code",
   "execution_count": 15,
   "metadata": {
    "colab": {},
    "colab_type": "code",
    "id": "sbmJNma0J_ap"
   },
   "outputs": [
    {
     "name": "stdout",
     "output_type": "stream",
     "text": [
      "Reloading model weights and lets evaluate on validation set\n",
      "--------------------------------------------------------------------------------\n"
     ]
    }
   ],
   "source": [
    "print('Reloading model weights and lets evaluate on validation set'); print('--'*40)\n",
    "model.load_weights(MODEL_WEIGHTS + BEST_MODEL)"
   ]
  },
  {
   "cell_type": "code",
   "execution_count": 16,
   "metadata": {
    "colab": {},
    "colab_type": "code",
    "id": "CG9dyWYMYZNk"
   },
   "outputs": [
    {
     "name": "stdout",
     "output_type": "stream",
     "text": [
      "Evaluate the model on validation data\n",
      "--------------------------------------------------------------------------------\n",
      "Loss: 0.336, Accuracy: 0.845, AP: 0.701, F1 Score: 0.6\n"
     ]
    }
   ],
   "source": [
    "print('Evaluate the model on validation data'); print('--'*40)\n",
    "\n",
    "loss, accuracy, ap, f1 = model.evaluate_generator(generator = validation_generator, \n",
    "                                          steps = generators.step_size_valid)\n",
    "print(f'Loss: {round(loss, 3)}, Accuracy: {round(float(accuracy), 3)}, AP: {round(float(ap), 3)}, F1 Score: {round(float(f1), 3)}')"
   ]
  },
  {
   "cell_type": "code",
   "execution_count": 17,
   "metadata": {
    "colab": {},
    "colab_type": "code",
    "id": "dF1DVIzFYmTG"
   },
   "outputs": [
    {
     "name": "stdout",
     "output_type": "stream",
     "text": [
      "Predict on the validation data\n",
      "--------------------------------------------------------------------------------\n",
      "84/84 [==============================] - 26s 313ms/step\n"
     ]
    }
   ],
   "source": [
    "print('Predict on the validation data'); print('--'*40)\n",
    "validation_generator.reset()\n",
    "valid_pred_roc = model.predict_generator(generator = validation_generator,\n",
    "                                         steps = generators.step_size_valid,\n",
    "                                         verbose = 1)\n",
    "valid_pred = []\n",
    "for i in valid_pred_roc:\n",
    "    if i >= 0.5: valid_pred.append(1)\n",
    "    else: valid_pred.append(0)\n",
    "y_valid = df_valid['Target'].astype(int).values"
   ]
  },
  {
   "cell_type": "code",
   "execution_count": 18,
   "metadata": {
    "colab": {},
    "colab_type": "code",
    "id": "dCvXZQRYahnK"
   },
   "outputs": [
    {
     "name": "stdout",
     "output_type": "stream",
     "text": [
      "Predict on the test data\n",
      "--------------------------------------------------------------------------------\n",
      "84/84 [==============================] - 26s 315ms/step\n"
     ]
    }
   ],
   "source": [
    "print('Predict on the test data'); print('--'*40)\n",
    "test_generator.reset()\n",
    "test_pred_roc = model.predict_generator(generator = test_generator,\n",
    "                                        steps = generators.step_size_test,\n",
    "                                        verbose = 1)\n",
    "test_pred = []\n",
    "for i in test_pred_roc:\n",
    "    if i >= 0.5: test_pred.append(1)\n",
    "    else: test_pred.append(0)\n",
    "y_test = df_test['Target'].astype(int).values"
   ]
  },
  {
   "cell_type": "code",
   "execution_count": 19,
   "metadata": {},
   "outputs": [
    {
     "data": {
      "text/plain": [
       "0    2071\n",
       "1     597\n",
       "dtype: int64"
      ]
     },
     "metadata": {},
     "output_type": "display_data"
    },
    {
     "data": {
      "text/plain": [
       "0    2042\n",
       "1     626\n",
       "dtype: int64"
      ]
     },
     "metadata": {},
     "output_type": "display_data"
    }
   ],
   "source": [
    "display(pd.Series(y_valid).value_counts(), pd.Series(y_test).value_counts())"
   ]
  },
  {
   "cell_type": "code",
   "execution_count": 20,
   "metadata": {},
   "outputs": [
    {
     "name": "stdout",
     "output_type": "stream",
     "text": [
      "ROC Curve for the validation data\n",
      "--------------------------------------------------------------------------------\n",
      "AUC: 0.890\n"
     ]
    },
    {
     "data": {
      "image/png": "[encoded data removed]",
      "text/plain": [
       "<Figure size 720x518.4 with 1 Axes>"
      ]
     },
     "metadata": {
      "needs_background": "light"
     },
     "output_type": "display_data"
    }
   ],
   "source": [
    "print('ROC Curve for the validation data'); print('--'*40)\n",
    "\n",
    "roc_auc_valid = roc_auc_score(y_valid, np.array(valid_pred_roc).reshape(-1))\n",
    "print('AUC: {:0.3f}'.format(roc_auc_valid))\n",
    "\n",
    "fig = plt.figure(figsize = (10, 7.2))\n",
    "fpr, tpr, thresholds = roc_curve(y_valid, np.array(valid_pred_roc).reshape(-1))\n",
    "plt.title('ROC Curve for the validation data')\n",
    "plt.ylabel('True Positive Rate')\n",
    "plt.xlabel('False Positive Rate')\n",
    "plt.axis([0, 1, 0, 1])\n",
    "plt.plot([0, 1], [0, 1], linestyle = '--', label = 'No Skill')\n",
    "plt.plot(fpr, tpr, marker = '.', label = 'ROC curve (area = %0.3f)' % roc_auc_valid)\n",
    "plt.legend(loc = 'lower right')\n",
    "plt.show()"
   ]
  },
  {
   "cell_type": "code",
   "execution_count": 21,
   "metadata": {},
   "outputs": [
    {
     "name": "stdout",
     "output_type": "stream",
     "text": [
      "ROC Curve for the test data\n",
      "--------------------------------------------------------------------------------\n",
      "AUC: 0.894\n"
     ]
    },
    {
     "data": {
      "image/png": "[encoded data removed]",
      "text/plain": [
       "<Figure size 720x518.4 with 1 Axes>"
      ]
     },
     "metadata": {
      "needs_background": "light"
     },
     "output_type": "display_data"
    }
   ],
   "source": [
    "print('ROC Curve for the test data'); print('--'*40)\n",
    "\n",
    "roc_auc_test = roc_auc_score(y_test, np.array(test_pred_roc).reshape(-1))\n",
    "print('AUC: {:0.3f}'.format(roc_auc_test))\n",
    "\n",
    "fig = plt.figure(figsize = (10, 7.2))\n",
    "fpr, tpr, thresholds = roc_curve(y_test, np.array(test_pred_roc).reshape(-1))\n",
    "plt.title('ROC Curve for the test data')\n",
    "plt.ylabel('True Positive Rate')\n",
    "plt.xlabel('False Positive Rate')\n",
    "plt.axis([0, 1, 0, 1])\n",
    "plt.plot([0, 1], [0, 1], linestyle = '--', label = 'Random')\n",
    "plt.plot(fpr, tpr, marker = '.', label = 'ROC curve (area = %0.3f)' % roc_auc_test)\n",
    "plt.legend(loc = 'lower right')\n",
    "plt.show()"
   ]
  },
  {
   "cell_type": "code",
   "execution_count": 22,
   "metadata": {},
   "outputs": [
    {
     "name": "stdout",
     "output_type": "stream",
     "text": [
      "Confusion Matrix on the test data\n",
      "--------------------------------------------------------------------------------\n"
     ]
    },
    {
     "data": {
      "image/png": "[encoded data removed]",
      "text/plain": [
       "<Figure size 720x518.4 with 1 Axes>"
      ]
     },
     "metadata": {
      "needs_background": "light"
     },
     "output_type": "display_data"
    }
   ],
   "source": [
    "print('Confusion Matrix on the test data'); print('--'*40)\n",
    "cm = confusion_matrix(y_test, test_pred)\n",
    "plot_confusion_matrix(cm, figsize = (10, 7.2), cmap = plt.cm.Blues)\n",
    "plt.xticks(range(2), ['Normal', 'Pneumonia'], fontsize = 16)\n",
    "plt.yticks(range(2), ['Normal', 'Pneumonia'], fontsize = 16)\n",
    "plt.show()"
   ]
  },
  {
   "cell_type": "code",
   "execution_count": 23,
   "metadata": {},
   "outputs": [
    {
     "name": "stdout",
     "output_type": "stream",
     "text": [
      "Classification Report on the test data\n",
      "------------------------------------------------------------------------------------------------------------------------\n",
      "              precision    recall  f1-score   support\n",
      "\n",
      "      Normal       0.87      0.93      0.90      2042\n",
      "   Pneumonia       0.72      0.55      0.62       626\n",
      "\n",
      "    accuracy                           0.84      2668\n",
      "   macro avg       0.79      0.74      0.76      2668\n",
      "weighted avg       0.84      0.84      0.84      2668\n",
      "\n"
     ]
    }
   ],
   "source": [
    "print('Classification Report on the test data'); print('--'*60)\n",
    "print(classification_report(y_test, test_pred, target_names = ['Normal', 'Pneumonia']))"
   ]
  },
  {
   "cell_type": "markdown",
   "metadata": {},
   "source": [
    "## Model - DenseNet121 + CheXNet pre-trained weights\n",
    "Acknowledgement for the pre-trained weights:\n",
    "We used pre-trained weights available from the following [repository](https://github.com/brucechou1983/CheXNet-Keras)."
   ]
  },
  {
   "cell_type": "code",
   "execution_count": 24,
   "metadata": {
    "colab": {},
    "colab_type": "code",
    "id": "MVGCIGX6Jqqp"
   },
   "outputs": [],
   "source": [
    "# Model Parameters\n",
    "BATCH_SIZE = 32\n",
    "IMAGE_SIZE = 224\n",
    "EPOCH = 10\n",
    "LEARNING_RATE = 1e-3\n",
    "MONITOR = 'val_loss'\n",
    "MODE = 'min'\n",
    "VERBOSE = 1\n",
    "FACTOR = 0.1\n",
    "PATIENCE = 5\n",
    "COOLDOWN = 5\n",
    "BEST_MODEL = 'best_chexnet.h5'\n",
    "FINAL_MODEL = 'best_chexnet_final.h5'\n",
    "LOG_FILE = 'logs_chexnet.csv'\n",
    "LOSS = 'binary_crossentropy'\n",
    "METRICS = ['accuracy', average_precision, f1_score]"
   ]
  },
  {
   "cell_type": "code",
   "execution_count": 25,
   "metadata": {},
   "outputs": [
    {
     "name": "stdout",
     "output_type": "stream",
     "text": [
      "Create generators for training, validation and test dataframes\n",
      "--------------------------------------------------------------------------------\n",
      "Train Generator Created ----------------------------------------\n",
      "Found 21348 validated image filenames belonging to 2 classes.\n",
      "Validation Generator Created ----------------------------------------\n",
      "Found 2668 validated image filenames belonging to 2 classes.\n",
      "Test Generator Created ----------------------------------------\n",
      "Found 2668 validated image filenames belonging to 2 classes.\n"
     ]
    }
   ],
   "source": [
    "print('Create generators for training, validation and test dataframes'); print('--'*40)\n",
    "generators = DataGenerators(df_train, df_valid, df_test, \n",
    "                            batch_size = BATCH_SIZE, \n",
    "                            path = TRAIN_IMAGES_DIR, \n",
    "                            img_size = (IMAGE_SIZE, IMAGE_SIZE), \n",
    "                            class_mode = 'binary',\n",
    "                            random_state = random_state)"
   ]
  },
  {
   "cell_type": "code",
   "execution_count": 26,
   "metadata": {
    "scrolled": false
   },
   "outputs": [],
   "source": [
    "def build_model():\n",
    "    print('Create a `CheXNet-like` model using pre-trained weights'); print('--'*40)\n",
    "    input_shape = (IMAGE_SIZE, IMAGE_SIZE, 3)\n",
    "    inputs = Input(shape = input_shape)\n",
    "    initializer = tf.keras.initializers.GlorotNormal()\n",
    "    \n",
    "    base_model = DenseNet121(include_top = True, input_tensor = inputs, weights = MODEL_WEIGHTS + 'CheXNet weights.h5', classes = 14)\n",
    "    \n",
    "    densenet = Model(inputs = inputs, outputs = base_model.layers[-2].output, name = 'CheXNet-like')\n",
    "    \n",
    "    model = Sequential(name = 'CheXNet-like')\n",
    "    model.add(densenet)\n",
    "    model.add(Dropout(0.2))\n",
    "    model.add(Dense(1, activation = 'sigmoid', kernel_initializer = initializer))\n",
    "    model.summary()\n",
    "    return model\n",
    "\n",
    "def callbacks():\n",
    "    lrscheduler = ReduceLROnPlateau(monitor = MONITOR, factor = FACTOR, \n",
    "                                    patience = PATIENCE, verbose = VERBOSE, \n",
    "                                    mode = MODE, cooldown = COOLDOWN)\n",
    "    \n",
    "    model.compile(optimizer = Adam(lr = LEARNING_RATE), loss = LOSS, metrics = METRICS)\n",
    "    \n",
    "    cp = ModelCheckpoint(filepath = MODEL_WEIGHTS + BEST_MODEL, monitor = MONITOR, \n",
    "                         verbose = VERBOSE, save_best_only = True, mode = MODE)\n",
    "    \n",
    "    if os.path.exists(MODEL_WEIGHTS + LOG_FILE): os.remove(MODEL_WEIGHTS + LOG_FILE)\n",
    "    csv_logger = CSVLogger(MODEL_WEIGHTS + LOG_FILE, append = True)\n",
    "    \n",
    "    callbacks = [cp, csv_logger, lrscheduler]\n",
    "    return callbacks"
   ]
  },
  {
   "cell_type": "code",
   "execution_count": 27,
   "metadata": {
    "colab": {
     "base_uri": "https://localhost:8080/",
     "height": 394
    },
    "colab_type": "code",
    "id": "Ed9btNzeauai",
    "outputId": "642e9ca4-3607-4779-ccec-df0dc6a5ec4f",
    "scrolled": false
   },
   "outputs": [
    {
     "name": "stdout",
     "output_type": "stream",
     "text": [
      "Lets fit the model.....\n",
      "Create a `CheXNet-like` model using pre-trained weights\n",
      "--------------------------------------------------------------------------------\n",
      "Model: \"CheXNet-like\"\n",
      "_________________________________________________________________\n",
      "Layer (type)                 Output Shape              Param #   \n",
      "=================================================================\n",
      "CheXNet-like (Model)         (None, 1024)              7037504   \n",
      "_________________________________________________________________\n",
      "dropout (Dropout)            (None, 1024)              0         \n",
      "_________________________________________________________________\n",
      "dense (Dense)                (None, 1)                 1025      \n",
      "=================================================================\n",
      "Total params: 7,038,529\n",
      "Trainable params: 6,954,881\n",
      "Non-trainable params: 83,648\n",
      "_________________________________________________________________\n",
      "Train for 668 steps, validate for 84 steps\n",
      "Epoch 1/10\n",
      "667/668 [============================>.] - ETA: 0s - loss: 0.3733 - accuracy: 0.8300 - average_precision: 0.6600 - f1_score: 0.5311\n",
      "Epoch 00001: val_loss improved from inf to 0.44532, saving model to /home/pratik_sharma_ds/Capstone_Pneumonia_Detection/model_weights/best_chexnet.h5\n",
      "668/668 [==============================] - 419s 627ms/step - loss: 0.3732 - accuracy: 0.8301 - average_precision: 0.6605 - f1_score: 0.5312 - val_loss: 0.4453 - val_accuracy: 0.8055 - val_average_precision: 0.6056 - val_f1_score: 0.3313\n",
      "Epoch 2/10\n",
      "667/668 [============================>.] - ETA: 0s - loss: 0.3533 - accuracy: 0.8403 - average_precision: 0.7008 - f1_score: 0.5837\n",
      "Epoch 00002: val_loss improved from 0.44532 to 0.37923, saving model to /home/pratik_sharma_ds/Capstone_Pneumonia_Detection/model_weights/best_chexnet.h5\n",
      "668/668 [==============================] - 405s 606ms/step - loss: 0.3533 - accuracy: 0.8404 - average_precision: 0.7008 - f1_score: 0.5838 - val_loss: 0.3792 - val_accuracy: 0.8332 - val_average_precision: 0.7764 - val_f1_score: 0.4595\n",
      "Epoch 3/10\n",
      "667/668 [============================>.] - ETA: 0s - loss: 0.3511 - accuracy: 0.8427 - average_precision: 0.7070 - f1_score: 0.5909\n",
      "Epoch 00003: val_loss did not improve from 0.37923\n",
      "668/668 [==============================] - 404s 605ms/step - loss: 0.3511 - accuracy: 0.8427 - average_precision: 0.7075 - f1_score: 0.5911 - val_loss: 0.4044 - val_accuracy: 0.8388 - val_average_precision: 0.7769 - val_f1_score: 0.4942\n",
      "Epoch 4/10\n",
      "667/668 [============================>.] - ETA: 0s - loss: 0.3450 - accuracy: 0.8426 - average_precision: 0.7085 - f1_score: 0.5871\n",
      "Epoch 00004: val_loss did not improve from 0.37923\n",
      "668/668 [==============================] - 404s 604ms/step - loss: 0.3449 - accuracy: 0.8427 - average_precision: 0.7089 - f1_score: 0.5874 - val_loss: 0.4144 - val_accuracy: 0.8306 - val_average_precision: 0.8101 - val_f1_score: 0.4419\n",
      "Epoch 5/10\n",
      "667/668 [============================>.] - ETA: 0s - loss: 0.3449 - accuracy: 0.8457 - average_precision: 0.7130 - f1_score: 0.5984\n",
      "Epoch 00005: val_loss did not improve from 0.37923\n",
      "668/668 [==============================] - 404s 604ms/step - loss: 0.3450 - accuracy: 0.8458 - average_precision: 0.7135 - f1_score: 0.5986 - val_loss: 1.1231 - val_accuracy: 0.7980 - val_average_precision: 0.5258 - val_f1_score: 0.1850\n",
      "Epoch 6/10\n",
      "667/668 [============================>.] - ETA: 0s - loss: 0.3409 - accuracy: 0.8464 - average_precision: 0.7148 - f1_score: 0.6002\n",
      "Epoch 00006: val_loss did not improve from 0.37923\n",
      "668/668 [==============================] - 403s 604ms/step - loss: 0.3410 - accuracy: 0.8464 - average_precision: 0.7143 - f1_score: 0.5999 - val_loss: 0.4552 - val_accuracy: 0.8370 - val_average_precision: 0.7718 - val_f1_score: 0.5021\n",
      "Epoch 7/10\n",
      "667/668 [============================>.] - ETA: 0s - loss: 0.3380 - accuracy: 0.8475 - average_precision: 0.7116 - f1_score: 0.6055\n",
      "Epoch 00007: val_loss did not improve from 0.37923\n",
      "\n",
      "Epoch 00007: ReduceLROnPlateau reducing learning rate to 0.00010000000474974513.\n",
      "668/668 [==============================] - 403s 604ms/step - loss: 0.3379 - accuracy: 0.8475 - average_precision: 0.7117 - f1_score: 0.6056 - val_loss: 1.3599 - val_accuracy: 0.7777 - val_average_precision: 0.0357 - val_f1_score: 0.0119\n",
      "Epoch 8/10\n",
      "667/668 [============================>.] - ETA: 0s - loss: 0.3215 - accuracy: 0.8585 - average_precision: 0.7409 - f1_score: 0.6375\n",
      "Epoch 00008: val_loss improved from 0.37923 to 0.32581, saving model to /home/pratik_sharma_ds/Capstone_Pneumonia_Detection/model_weights/best_chexnet.h5\n",
      "668/668 [==============================] - 404s 605ms/step - loss: 0.3213 - accuracy: 0.8587 - average_precision: 0.7413 - f1_score: 0.6379 - val_loss: 0.3258 - val_accuracy: 0.8538 - val_average_precision: 0.7211 - val_f1_score: 0.6140\n",
      "Epoch 9/10\n",
      "667/668 [============================>.] - ETA: 0s - loss: 0.3172 - accuracy: 0.8566 - average_precision: 0.7317 - f1_score: 0.6339\n",
      "Epoch 00009: val_loss improved from 0.32581 to 0.32542, saving model to /home/pratik_sharma_ds/Capstone_Pneumonia_Detection/model_weights/best_chexnet.h5\n",
      "668/668 [==============================] - 408s 611ms/step - loss: 0.3170 - accuracy: 0.8568 - average_precision: 0.7316 - f1_score: 0.6341 - val_loss: 0.3254 - val_accuracy: 0.8482 - val_average_precision: 0.6918 - val_f1_score: 0.6097\n",
      "Epoch 10/10\n",
      "667/668 [============================>.] - ETA: 0s - loss: 0.3083 - accuracy: 0.8623 - average_precision: 0.7464 - f1_score: 0.6457\n",
      "Epoch 00010: val_loss did not improve from 0.32542\n",
      "668/668 [==============================] - 405s 606ms/step - loss: 0.3085 - accuracy: 0.8621 - average_precision: 0.7465 - f1_score: 0.6455 - val_loss: 0.3320 - val_accuracy: 0.8482 - val_average_precision: 0.6931 - val_f1_score: 0.6104\n",
      "Save the final weights\n",
      "--------------------------------------------------------------------------------\n"
     ]
    }
   ],
   "source": [
    "print('Lets fit the model.....')\n",
    "K.clear_session()\n",
    "with strategy.scope():\n",
    "    model = build_model()\n",
    "    callbacks = callbacks()\n",
    "    train_generator = generators.train_generator\n",
    "    validation_generator = generators.valid_generator\n",
    "    test_generator = generators.test_generator    \n",
    "    history = model.fit_generator(generator = train_generator, \n",
    "                                  steps_per_epoch = generators.step_size_train,\n",
    "                                  epochs = EPOCH, verbose = VERBOSE, \n",
    "                                  callbacks = callbacks,\n",
    "                                  validation_data = validation_generator, \n",
    "                                  validation_steps = generators.step_size_valid)\n",
    "    print('Save the final weights'); print('--'*40)\n",
    "    model.save(MODEL_WEIGHTS + FINAL_MODEL)"
   ]
  },
  {
   "cell_type": "code",
   "execution_count": 28,
   "metadata": {
    "colab": {},
    "colab_type": "code",
    "id": "sbmJNma0J_ap",
    "scrolled": true
   },
   "outputs": [
    {
     "name": "stdout",
     "output_type": "stream",
     "text": [
      "Reloading model weights and lets evaluate on validation set\n",
      "--------------------------------------------------------------------------------\n"
     ]
    }
   ],
   "source": [
    "print('Reloading model weights and lets evaluate on validation set'); print('--'*40)\n",
    "model.load_weights(MODEL_WEIGHTS + BEST_MODEL)"
   ]
  },
  {
   "cell_type": "code",
   "execution_count": 29,
   "metadata": {
    "colab": {},
    "colab_type": "code",
    "id": "CG9dyWYMYZNk"
   },
   "outputs": [
    {
     "name": "stdout",
     "output_type": "stream",
     "text": [
      "Evaluate the model on validation data\n",
      "--------------------------------------------------------------------------------\n",
      "Loss: 0.325, Accuracy: 0.848, AP: 0.692, F1 Score: 0.61\n"
     ]
    }
   ],
   "source": [
    "print('Evaluate the model on validation data'); print('--'*40)\n",
    "\n",
    "loss, accuracy, ap, f1 = model.evaluate_generator(generator = validation_generator, \n",
    "                                          steps = generators.step_size_valid)\n",
    "print(f'Loss: {round(loss, 3)}, Accuracy: {round(float(accuracy), 3)}, AP: {round(float(ap), 3)}, F1 Score: {round(float(f1), 3)}')"
   ]
  },
  {
   "cell_type": "code",
   "execution_count": 30,
   "metadata": {
    "colab": {},
    "colab_type": "code",
    "id": "dF1DVIzFYmTG"
   },
   "outputs": [
    {
     "name": "stdout",
     "output_type": "stream",
     "text": [
      "Predict on the validation data\n",
      "--------------------------------------------------------------------------------\n",
      "84/84 [==============================] - 26s 314ms/step\n"
     ]
    }
   ],
   "source": [
    "print('Predict on the validation data'); print('--'*40)\n",
    "validation_generator.reset()\n",
    "valid_pred_roc = model.predict_generator(generator = validation_generator,\n",
    "                                         steps = generators.step_size_valid,\n",
    "                                         verbose = 1)\n",
    "valid_pred = []\n",
    "for i in valid_pred_roc:\n",
    "    if i >= 0.5: valid_pred.append(1)\n",
    "    else: valid_pred.append(0)\n",
    "y_valid = df_valid['Target'].astype(int).values"
   ]
  },
  {
   "cell_type": "code",
   "execution_count": 31,
   "metadata": {
    "colab": {},
    "colab_type": "code",
    "id": "dCvXZQRYahnK"
   },
   "outputs": [
    {
     "name": "stdout",
     "output_type": "stream",
     "text": [
      "Predict on the test data\n",
      "--------------------------------------------------------------------------------\n",
      "84/84 [==============================] - 26s 311ms/step\n"
     ]
    }
   ],
   "source": [
    "print('Predict on the test data'); print('--'*40)\n",
    "test_generator.reset()\n",
    "test_pred_roc = model.predict_generator(generator = test_generator,\n",
    "                                        steps = generators.step_size_test,\n",
    "                                        verbose = 1)\n",
    "test_pred = []\n",
    "for i in test_pred_roc:\n",
    "    if i >= 0.5: test_pred.append(1)\n",
    "    else: test_pred.append(0)\n",
    "y_test = df_test['Target'].astype(int).values"
   ]
  },
  {
   "cell_type": "code",
   "execution_count": 32,
   "metadata": {},
   "outputs": [
    {
     "data": {
      "text/plain": [
       "0    2071\n",
       "1     597\n",
       "dtype: int64"
      ]
     },
     "metadata": {},
     "output_type": "display_data"
    },
    {
     "data": {
      "text/plain": [
       "0    2042\n",
       "1     626\n",
       "dtype: int64"
      ]
     },
     "metadata": {},
     "output_type": "display_data"
    }
   ],
   "source": [
    "display(pd.Series(y_valid).value_counts(), pd.Series(y_test).value_counts())"
   ]
  },
  {
   "cell_type": "code",
   "execution_count": 33,
   "metadata": {},
   "outputs": [
    {
     "name": "stdout",
     "output_type": "stream",
     "text": [
      "ROC Curve for the validation data\n",
      "--------------------------------------------------------------------------------\n",
      "AUC: 0.898\n"
     ]
    },
    {
     "data": {
      "image/png": "[encoded data removed]",
      "text/plain": [
       "<Figure size 720x518.4 with 1 Axes>"
      ]
     },
     "metadata": {
      "needs_background": "light"
     },
     "output_type": "display_data"
    }
   ],
   "source": [
    "print('ROC Curve for the validation data'); print('--'*40)\n",
    "\n",
    "roc_auc_valid = roc_auc_score(y_valid, np.array(valid_pred_roc).reshape(-1))\n",
    "print('AUC: {:0.3f}'.format(roc_auc_valid))\n",
    "\n",
    "fig = plt.figure(figsize = (10, 7.2))\n",
    "fpr, tpr, thresholds = roc_curve(y_valid, np.array(valid_pred_roc).reshape(-1))\n",
    "plt.title('ROC Curve for the validation data')\n",
    "plt.ylabel('True Positive Rate')\n",
    "plt.xlabel('False Positive Rate')\n",
    "plt.axis([0, 1, 0, 1])\n",
    "plt.plot([0, 1], [0, 1], linestyle = '--', label = 'No Skill')\n",
    "plt.plot(fpr, tpr, marker = '.', label = 'ROC curve (area = %0.3f)' % roc_auc_valid)\n",
    "plt.legend(loc = 'lower right')\n",
    "plt.show()"
   ]
  },
  {
   "cell_type": "code",
   "execution_count": 34,
   "metadata": {},
   "outputs": [
    {
     "name": "stdout",
     "output_type": "stream",
     "text": [
      "ROC Curve for the test data\n",
      "--------------------------------------------------------------------------------\n",
      "AUC: 0.895\n"
     ]
    },
    {
     "data": {
      "image/png": "[encoded data removed]",
      "text/plain": [
       "<Figure size 720x518.4 with 1 Axes>"
      ]
     },
     "metadata": {
      "needs_background": "light"
     },
     "output_type": "display_data"
    }
   ],
   "source": [
    "print('ROC Curve for the test data'); print('--'*40)\n",
    "\n",
    "roc_auc_test = roc_auc_score(y_test, np.array(test_pred_roc).reshape(-1))\n",
    "print('AUC: {:0.3f}'.format(roc_auc_test))\n",
    "\n",
    "fig = plt.figure(figsize = (10, 7.2))\n",
    "fpr, tpr, thresholds = roc_curve(y_test, np.array(test_pred_roc).reshape(-1))\n",
    "plt.title('ROC Curve for the test data')\n",
    "plt.ylabel('True Positive Rate')\n",
    "plt.xlabel('False Positive Rate')\n",
    "plt.axis([0, 1, 0, 1])\n",
    "plt.plot([0, 1], [0, 1], linestyle = '--', label = 'Random')\n",
    "plt.plot(fpr, tpr, marker = '.', label = 'ROC curve (area = %0.3f)' % roc_auc_test)\n",
    "plt.legend(loc = 'lower right')\n",
    "plt.show()"
   ]
  },
  {
   "cell_type": "code",
   "execution_count": 35,
   "metadata": {},
   "outputs": [
    {
     "name": "stdout",
     "output_type": "stream",
     "text": [
      "Confusion Matrix on the test data\n",
      "--------------------------------------------------------------------------------\n"
     ]
    },
    {
     "data": {
      "image/png": "[encoded data removed]",
      "text/plain": [
       "<Figure size 720x518.4 with 1 Axes>"
      ]
     },
     "metadata": {
      "needs_background": "light"
     },
     "output_type": "display_data"
    }
   ],
   "source": [
    "print('Confusion Matrix on the test data'); print('--'*40)\n",
    "cm = confusion_matrix(y_test, test_pred)\n",
    "plot_confusion_matrix(cm, figsize = (10, 7.2), cmap = plt.cm.Blues)\n",
    "plt.xticks(range(2), ['Normal', 'Pneumonia'], fontsize = 16)\n",
    "plt.yticks(range(2), ['Normal', 'Pneumonia'], fontsize = 16)\n",
    "plt.show()"
   ]
  },
  {
   "cell_type": "code",
   "execution_count": 36,
   "metadata": {},
   "outputs": [
    {
     "name": "stdout",
     "output_type": "stream",
     "text": [
      "Classification Report on the test data\n",
      "------------------------------------------------------------------------------------------------------------------------\n",
      "              precision    recall  f1-score   support\n",
      "\n",
      "      Normal       0.87      0.93      0.90      2042\n",
      "   Pneumonia       0.72      0.55      0.63       626\n",
      "\n",
      "    accuracy                           0.85      2668\n",
      "   macro avg       0.80      0.74      0.76      2668\n",
      "weighted avg       0.84      0.85      0.84      2668\n",
      "\n"
     ]
    }
   ],
   "source": [
    "print('Classification Report on the test data'); print('--'*60)\n",
    "print(classification_report(y_test, test_pred, target_names = ['Normal', 'Pneumonia']))"
   ]
  },
  {
   "cell_type": "code",
   "execution_count": 37,
   "metadata": {
    "scrolled": false
   },
   "outputs": [
    {
     "name": "stdout",
     "output_type": "stream",
     "text": [
      "Train/Validation Accuracy/Loss Comparison\n",
      "--------------------------------------------------------------------------------\n"
     ]
    },
    {
     "data": {
      "image/png": "[encoded data removed]",
      "text/plain": [
       "<Figure size 864x576 with 4 Axes>"
      ]
     },
     "metadata": {
      "needs_background": "light"
     },
     "output_type": "display_data"
    }
   ],
   "source": [
    "print('Train/Validation Accuracy/Loss Comparison'); print('--'*40)\n",
    "logs = pd.read_csv(MODEL_WEIGHTS + 'logs.csv')\n",
    "logs_chex = pd.read_csv(MODEL_WEIGHTS + 'logs_chexnet.csv')\n",
    "f, ((ax1, ax2), (ax3, ax4)) = plt.subplots(2, 2, figsize = (12, 8))\n",
    "\n",
    "ax1.plot(logs['epoch'], logs['accuracy'], 'g', label = 'DenseNet121 Training Accuracy')\n",
    "ax1.plot(logs_chex['epoch'], logs_chex['accuracy'], 'b', label = 'CheXNet Training Accuracy')\n",
    "ax1.set_title('Training Accuracy for DenseNet121 and CheXNet')\n",
    "ax1.set_xlabel('Epochs')\n",
    "ax1.set_ylabel('Accuracy')\n",
    "ax1.set_xlim(0, logs['epoch'].max())\n",
    "# ax1.set_ylim(0, 1)\n",
    "ax1.legend(loc = 'lower right')\n",
    "\n",
    "ax2.plot(logs['epoch'], logs['val_accuracy'], 'g', label = 'DenseNet121 Validation Accuracy')\n",
    "ax2.plot(logs_chex['epoch'], logs_chex['val_accuracy'], 'b', label = 'CheXNet Validation Accuracy')\n",
    "ax2.set_title('Validation Accuracy for DenseNet121 and CheXNet')\n",
    "ax2.set_xlabel('Epochs')\n",
    "ax2.set_ylabel('Accuracy')\n",
    "ax2.set_xlim(0, logs['epoch'].max())\n",
    "# ax2.set_ylim(0, 1)\n",
    "ax2.legend(loc = 'lower right')\n",
    "\n",
    "ax3.plot(logs['epoch'], logs['loss'], 'g', label = 'DenseNet121 Training Loss')\n",
    "ax3.plot(logs_chex['epoch'], logs_chex['loss'], 'b', label = 'CheXNet Training Loss')\n",
    "ax3.set_title('Training Loss for DenseNet121 and CheXNet')\n",
    "ax3.set_xlabel('Epochs')\n",
    "ax3.set_ylabel('Loss')\n",
    "ax3.set_xlim(0, logs['epoch'].max())\n",
    "# ax3.set_ylim(0, logs['loss'].max())\n",
    "ax3.legend(loc = 'lower left')\n",
    "\n",
    "ax4.plot(logs['epoch'], logs['val_loss'], 'g', label = 'DenseNet121 Validation Loss')\n",
    "ax4.plot(logs_chex['epoch'], logs_chex['val_loss'], 'b', label = 'CheXNet Validation Loss')\n",
    "ax4.set_title('Validation Loss for DenseNet121 and CheXNet')\n",
    "ax4.set_xlabel('Epochs')\n",
    "ax4.set_ylabel('Loss')\n",
    "ax4.set_xlim(0, logs['epoch'].max())\n",
    "# ax4.set_ylim(0, logs['val_loss'].max())\n",
    "ax4.legend(loc = 'lower left')\n",
    "plt.tight_layout()\n",
    "plt.show()"
   ]
  }
 ],
 "metadata": {
  "accelerator": "GPU",
  "colab": {
   "collapsed_sections": [],
   "name": "Pneumonia_Detection_Model_DenseNet121.ipynb",
   "provenance": [],
   "toc_visible": true
  },
  "kernelspec": {
   "display_name": "Python 3",
   "language": "python",
   "name": "python3"
  },
  "language_info": {
   "codemirror_mode": {
    "name": "ipython",
    "version": 3
   },
   "file_extension": ".py",
   "mimetype": "text/x-python",
   "name": "python",
   "nbconvert_exporter": "python",
   "pygments_lexer": "ipython3",
   "version": "3.7.6"
  }
 },
 "nbformat": 4,
 "nbformat_minor": 1
}
